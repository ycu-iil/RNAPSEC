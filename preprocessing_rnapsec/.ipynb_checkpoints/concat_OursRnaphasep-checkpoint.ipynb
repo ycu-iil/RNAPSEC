{
 "cells": [
  {
   "cell_type": "code",
   "execution_count": 7,
   "metadata": {},
   "outputs": [],
   "source": [
    "import pandas as pd\n",
    "import codecs"
   ]
  },
  {
   "cell_type": "code",
   "execution_count": 26,
   "metadata": {},
   "outputs": [],
   "source": [
    "df_ours = pd.read_csv(\"./preprocessing_results/ours_data.csv\")\n",
    "df_ours = df_ours.rename(columns = {\"index\": \"ini_idx\"})\n",
    "df_ours.ini_idx = df_ours.ini_idx.str.replace(\"750-1\", \"750\")"
   ]
  },
  {
   "cell_type": "code",
   "execution_count": 28,
   "metadata": {},
   "outputs": [],
   "source": [
    "df_ours.ini_idx = df_ours.ini_idx.astype(\"int\")"
   ]
  },
  {
   "cell_type": "code",
   "execution_count": 16,
   "metadata": {},
   "outputs": [],
   "source": [
    "with codecs.open(\"./data/rnaphasep_all_data.csv\", \"r\", \"Shift-JIS\", \"ignore\") as file:\n",
    "    rnaphasep = pd.read_table(file, delimiter=\",\")"
   ]
  },
  {
   "cell_type": "code",
   "execution_count": 17,
   "metadata": {},
   "outputs": [],
   "source": [
    "rnaphasep = rnaphasep.drop(rnaphasep.columns[rnaphasep.columns.str.contains(\"Unnamed\")], axis = \"columns\")\n",
    "rnaphasep = rnaphasep.rename(columns = {\"index\": \"ini_idx\"})\n",
    "rnaphasep.ini_idx.astype"
   ]
  },
  {
   "cell_type": "code",
   "execution_count": 30,
   "metadata": {},
   "outputs": [],
   "source": [
    "df_rnaphasep = rnaphasep[rnaphasep.ini_idx.isin(df_ours.ini_idx)]"
   ]
  },
  {
   "cell_type": "code",
   "execution_count": 34,
   "metadata": {},
   "outputs": [
    {
     "data": {
      "text/plain": [
       "Index(['pmid', 'rna_id', 'rna_id_interface', 'rnas', 'rna_length',\n",
       "       'rna_classification', 'source', 'protein_name', 'protein_region',\n",
       "       'protein_modification', 'protein_sequence_length', 'Uniprot ID', 'mark',\n",
       "       'link', 'IDR', 'low complexity domain', 'other_requirement',\n",
       "       'detection_method', 'description'],\n",
       "      dtype='object')"
      ]
     },
     "execution_count": 34,
     "metadata": {},
     "output_type": "execute_result"
    }
   ],
   "source": [
    "df_rnaphasep.columns[~df_rnaphasep.columns.isin(df_ours.columns)]"
   ]
  },
  {
   "cell_type": "code",
   "execution_count": 37,
   "metadata": {},
   "outputs": [],
   "source": [
    "df_ours_all_col = pd.merge(df_ours,df_rnaphasep.loc[:,[\"ini_idx\", 'pmid', 'rna_id', 'rna_id_interface', 'rnas', 'rna_length',\n",
    "       'rna_classification', 'source', 'protein_name', 'protein_region',\n",
    "       'protein_modification', 'protein_sequence_length', 'Uniprot ID', 'mark',\n",
    "       'link', 'IDR', 'low complexity domain', 'other_requirement',\n",
    "       'detection_method', 'description']], on = \"ini_idx\")"
   ]
  },
  {
   "cell_type": "code",
   "execution_count": 39,
   "metadata": {},
   "outputs": [],
   "source": [
    "df_ours_all_col.to_csv(\"./data/ours_all_col.csv\")"
   ]
  },
  {
   "cell_type": "code",
   "execution_count": 50,
   "metadata": {},
   "outputs": [
    {
     "data": {
      "text/plain": [
       "array(['gel'], dtype=object)"
      ]
     },
     "execution_count": 50,
     "metadata": {},
     "output_type": "execute_result"
    }
   ],
   "source": [
    "df_ours_all_col[df_ours_all_col.pmid_label.isna()].morphology_add.unique() #morphologyがgelのデータはpmid_labelを振っていない"
   ]
  },
  {
   "cell_type": "code",
   "execution_count": null,
   "metadata": {},
   "outputs": [],
   "source": []
  }
 ],
 "metadata": {
  "kernelspec": {
   "display_name": "Python 3",
   "language": "python",
   "name": "python3"
  },
  "language_info": {
   "codemirror_mode": {
    "name": "ipython",
    "version": 3
   },
   "file_extension": ".py",
   "mimetype": "text/x-python",
   "name": "python",
   "nbconvert_exporter": "python",
   "pygments_lexer": "ipython3",
   "version": "3.6.13"
  },
  "toc": {
   "base_numbering": 1,
   "nav_menu": {},
   "number_sections": true,
   "sideBar": true,
   "skip_h1_title": false,
   "title_cell": "Table of Contents",
   "title_sidebar": "Contents",
   "toc_cell": false,
   "toc_position": {},
   "toc_section_display": true,
   "toc_window_display": false
  },
  "vscode": {
   "interpreter": {
    "hash": "7c2d45eac35eb35cf18b047c6fd922de1a9970775e37a674a59e8caea30e7229"
   }
  }
 },
 "nbformat": 4,
 "nbformat_minor": 2
}

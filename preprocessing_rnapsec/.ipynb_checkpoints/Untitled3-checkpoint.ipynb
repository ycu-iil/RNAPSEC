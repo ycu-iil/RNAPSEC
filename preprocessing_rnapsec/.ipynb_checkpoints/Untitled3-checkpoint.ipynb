{
 "cells": [
  {
   "cell_type": "code",
   "execution_count": 1,
   "id": "53f9cb7d",
   "metadata": {},
   "outputs": [
    {
     "name": "stderr",
     "output_type": "stream",
     "text": [
      "/home/chin/.pyenv/versions/miniconda3-4.2.12/envs/calc2/lib/python3.6/site-packages/ipykernel_launcher.py:20: SettingWithCopyWarning: \n",
      "A value is trying to be set on a copy of a slice from a DataFrame.\n",
      "Try using .loc[row_indexer,col_indexer] = value instead\n",
      "\n",
      "See the caveats in the documentation: https://pandas.pydata.org/pandas-docs/stable/user_guide/indexing.html#returning-a-view-versus-a-copy\n",
      "/home/chin/.pyenv/versions/miniconda3-4.2.12/envs/calc2/lib/python3.6/site-packages/ipykernel_launcher.py:21: SettingWithCopyWarning: \n",
      "A value is trying to be set on a copy of a slice from a DataFrame\n",
      "\n",
      "See the caveats in the documentation: https://pandas.pydata.org/pandas-docs/stable/user_guide/indexing.html#returning-a-view-versus-a-copy\n",
      "/home/chin/.pyenv/versions/miniconda3-4.2.12/envs/calc2/lib/python3.6/site-packages/pandas/core/series.py:1021: SettingWithCopyWarning: \n",
      "A value is trying to be set on a copy of a slice from a DataFrame\n",
      "\n",
      "See the caveats in the documentation: https://pandas.pydata.org/pandas-docs/stable/user_guide/indexing.html#returning-a-view-versus-a-copy\n",
      "  self._where(~key, value, inplace=True)\n",
      "/home/chin/.pyenv/versions/miniconda3-4.2.12/envs/calc2/lib/python3.6/site-packages/ipykernel_launcher.py:22: SettingWithCopyWarning: \n",
      "A value is trying to be set on a copy of a slice from a DataFrame\n",
      "\n",
      "See the caveats in the documentation: https://pandas.pydata.org/pandas-docs/stable/user_guide/indexing.html#returning-a-view-versus-a-copy\n",
      "/home/chin/.pyenv/versions/miniconda3-4.2.12/envs/calc2/lib/python3.6/site-packages/ipykernel_launcher.py:23: SettingWithCopyWarning: \n",
      "A value is trying to be set on a copy of a slice from a DataFrame.\n",
      "Try using .loc[row_indexer,col_indexer] = value instead\n",
      "\n",
      "See the caveats in the documentation: https://pandas.pydata.org/pandas-docs/stable/user_guide/indexing.html#returning-a-view-versus-a-copy\n",
      "/home/chin/.pyenv/versions/miniconda3-4.2.12/envs/calc2/lib/python3.6/site-packages/ipykernel_launcher.py:24: SettingWithCopyWarning: \n",
      "A value is trying to be set on a copy of a slice from a DataFrame.\n",
      "Try using .loc[row_indexer,col_indexer] = value instead\n",
      "\n",
      "See the caveats in the documentation: https://pandas.pydata.org/pandas-docs/stable/user_guide/indexing.html#returning-a-view-versus-a-copy\n",
      "/home/chin/.pyenv/versions/miniconda3-4.2.12/envs/calc2/lib/python3.6/site-packages/ipykernel_launcher.py:30: UserWarning: Boolean Series key will be reindexed to match DataFrame index.\n",
      "/home/chin/.pyenv/versions/miniconda3-4.2.12/envs/calc2/lib/python3.6/site-packages/ipykernel_launcher.py:61: SettingWithCopyWarning: \n",
      "A value is trying to be set on a copy of a slice from a DataFrame\n",
      "\n",
      "See the caveats in the documentation: https://pandas.pydata.org/pandas-docs/stable/user_guide/indexing.html#returning-a-view-versus-a-copy\n",
      "/home/chin/.pyenv/versions/miniconda3-4.2.12/envs/calc2/lib/python3.6/site-packages/ipykernel_launcher.py:62: SettingWithCopyWarning: \n",
      "A value is trying to be set on a copy of a slice from a DataFrame\n",
      "\n",
      "See the caveats in the documentation: https://pandas.pydata.org/pandas-docs/stable/user_guide/indexing.html#returning-a-view-versus-a-copy\n",
      "/home/chin/.pyenv/versions/miniconda3-4.2.12/envs/calc2/lib/python3.6/site-packages/ipykernel_launcher.py:63: SettingWithCopyWarning: \n",
      "A value is trying to be set on a copy of a slice from a DataFrame\n",
      "\n",
      "See the caveats in the documentation: https://pandas.pydata.org/pandas-docs/stable/user_guide/indexing.html#returning-a-view-versus-a-copy\n",
      "/home/chin/.pyenv/versions/miniconda3-4.2.12/envs/calc2/lib/python3.6/site-packages/ipykernel_launcher.py:65: SettingWithCopyWarning: \n",
      "A value is trying to be set on a copy of a slice from a DataFrame\n",
      "\n",
      "See the caveats in the documentation: https://pandas.pydata.org/pandas-docs/stable/user_guide/indexing.html#returning-a-view-versus-a-copy\n",
      "/home/chin/.pyenv/versions/miniconda3-4.2.12/envs/calc2/lib/python3.6/site-packages/ipykernel_launcher.py:66: SettingWithCopyWarning: \n",
      "A value is trying to be set on a copy of a slice from a DataFrame\n",
      "\n",
      "See the caveats in the documentation: https://pandas.pydata.org/pandas-docs/stable/user_guide/indexing.html#returning-a-view-versus-a-copy\n",
      "/home/chin/.pyenv/versions/miniconda3-4.2.12/envs/calc2/lib/python3.6/site-packages/ipykernel_launcher.py:81: SettingWithCopyWarning: \n",
      "A value is trying to be set on a copy of a slice from a DataFrame\n",
      "\n",
      "See the caveats in the documentation: https://pandas.pydata.org/pandas-docs/stable/user_guide/indexing.html#returning-a-view-versus-a-copy\n",
      "/home/chin/.pyenv/versions/miniconda3-4.2.12/envs/calc2/lib/python3.6/site-packages/ipykernel_launcher.py:82: SettingWithCopyWarning: \n",
      "A value is trying to be set on a copy of a slice from a DataFrame\n",
      "\n",
      "See the caveats in the documentation: https://pandas.pydata.org/pandas-docs/stable/user_guide/indexing.html#returning-a-view-versus-a-copy\n",
      "/home/chin/.pyenv/versions/miniconda3-4.2.12/envs/calc2/lib/python3.6/site-packages/ipykernel_launcher.py:83: SettingWithCopyWarning: \n",
      "A value is trying to be set on a copy of a slice from a DataFrame\n",
      "\n",
      "See the caveats in the documentation: https://pandas.pydata.org/pandas-docs/stable/user_guide/indexing.html#returning-a-view-versus-a-copy\n",
      "/home/chin/.pyenv/versions/miniconda3-4.2.12/envs/calc2/lib/python3.6/site-packages/ipykernel_launcher.py:87: SettingWithCopyWarning: \n",
      "A value is trying to be set on a copy of a slice from a DataFrame\n",
      "\n",
      "See the caveats in the documentation: https://pandas.pydata.org/pandas-docs/stable/user_guide/indexing.html#returning-a-view-versus-a-copy\n",
      "/home/chin/.pyenv/versions/miniconda3-4.2.12/envs/calc2/lib/python3.6/site-packages/ipykernel_launcher.py:88: SettingWithCopyWarning: \n",
      "A value is trying to be set on a copy of a slice from a DataFrame\n",
      "\n",
      "See the caveats in the documentation: https://pandas.pydata.org/pandas-docs/stable/user_guide/indexing.html#returning-a-view-versus-a-copy\n",
      "/home/chin/.pyenv/versions/miniconda3-4.2.12/envs/calc2/lib/python3.6/site-packages/ipykernel_launcher.py:89: SettingWithCopyWarning: \n",
      "A value is trying to be set on a copy of a slice from a DataFrame\n",
      "\n",
      "See the caveats in the documentation: https://pandas.pydata.org/pandas-docs/stable/user_guide/indexing.html#returning-a-view-versus-a-copy\n"
     ]
    }
   ],
   "source": [
    "\n",
    "\n",
    "import pandas as pd\n",
    "from Bio.Seq import Seq\n",
    "from Bio import SeqIO\n",
    "from Bio.SeqRecord import SeqRecord\n",
    "from Bio.SeqUtils.ProtParam import ProteinAnalysis, molecular_weight\n",
    "\n",
    "import numpy as np\n",
    "import codecs\n",
    "import os\n",
    "\"追加分だけに絞る→タンパク質配列だけのカラム作る→RNA配列をfastaに書き出す→濃度の単位をμMに統一→温度・pHをfloat変換→csvに書き出す\"\n",
    "#元データで前処理しなきゃならん項目を書き出しとく (preproのディレクトにreadmeでかいとく)\n",
    "with codecs.open(\"./data/rnapsec.csv\", \"r\", \"Shift-JIS\", \"ignore\") as file:\n",
    "    rnaphasep = pd.read_table(file, delimiter=\",\")\n",
    "rnaphasep = rnaphasep.drop(rnaphasep.columns[rnaphasep.columns.str.contains(\"Unnamed\")], axis = \"columns\")\n",
    "rnaphasep = rnaphasep[rnaphasep[\"index\"].notna()]\n",
    "\n",
    "#追加したデータだけに絞る\n",
    "df_rnaphasep = rnaphasep[(rnaphasep['added']==\"added\")| (rnaphasep['added']==\"edited\" )]\n",
    "\n",
    "df_rnaphasep[\"aa\"] = np.nan\n",
    "df_rnaphasep[\"aa\"][~df_rnaphasep.protein_sequence.str.contains(\"\\|\")] = df_rnaphasep.protein_sequence\n",
    "df_rnaphasep[\"aa\"][df_rnaphasep.protein_sequence.str.contains(\"\\|\")] = df_rnaphasep.protein_sequence.str.split(\"\\n\", 1, expand = True)[1].str.replace(\"\\n|\\||;\", \"\")\n",
    "df_rnaphasep[\"aa\"] = df_rnaphasep[\"aa\"].str.replace(\"(^[A-Z])\",\"\",  regex = False)\n",
    "df_rnaphasep[\"aa\"] = df_rnaphasep[\"aa\"].str.replace(\">spQ99496RING2_HUMAN E3 ubiquitin-protein ligase RING2 OS=Homo sapiens OX=9606 GN=RNF2 PE=1 SV=1\", \"\") #fusion protein\n",
    "df_rnaphasep = df_rnaphasep[df_rnaphasep.aa.str.contains(\"[A-Z][A-Z]\", na = False)]\n",
    "df_rnaphasep = df_rnaphasep[df_rnaphasep.aa.notna()]\n",
    "df_rnaphasep = df_rnaphasep.reset_index(drop = False)\n",
    "\n",
    "df_rnaphasep1 = df_rnaphasep[df_rnaphasep.rna_sequence != \"-\"  ]\n",
    "df_rnaphasep1 = df_rnaphasep1[df_rnaphasep.rna_sequence.notna()]\n",
    "\n",
    "#seqなし、\";|-\"取り除く\n",
    "df_rnaphasep1[df_rnaphasep1.rna_sequence.str.contains(\";\\|-\", na = False)] #'UAGAAAACAUGAGGAUCACCCAUGUCUGCAG;|-'\n",
    "df_rnaphasep1.rna_sequence = df_rnaphasep1.rna_sequence.str.replace(\";\\|-\", \"\")\n",
    "\n",
    "\n",
    "#濃度\n",
    "#最初に全部floatに変換する\n",
    "df_rnaphasep1.protein_conc = df_rnaphasep1.protein_conc.astype(\"float\")\n",
    "df_rnaphasep1.rna_conc = df_rnaphasep1.rna_conc.astype(\"float\")\n",
    "#濃度欠損のデータをはずす\n",
    "    #na, 0 を含むデータをはずす\n",
    "df_rnaphasep1 = df_rnaphasep1[(df_rnaphasep1.rna_conc.notna()) & (df_rnaphasep1.protein_conc.notna())] #\n",
    "df_rnaphasep1 = df_rnaphasep1[(df_rnaphasep1.rna_conc != 0) & (df_rnaphasep1.protein_conc != 0)]\n",
    "df_rnaphasep1[\"protein_weight\"]=\"?\"\n",
    "for i in df_rnaphasep1.index:\n",
    "    df_rnaphasep1.loc.__setitem__((i,\"protein_weight\"),  (\"%0.2f\" % molecular_weight(f\"{df_rnaphasep1.aa.loc[i]}\", \"protein\")))\n",
    "#単位の表記統一 (μ, 文字化け(元ファイルはμ) → u)\n",
    "df_rnaphasep1.rna_unit =df_rnaphasep1.rna_unit.str.replace('(ﾎｼ|u|µ|\\_)', \"u\")\n",
    "df_rnaphasep1.rna_unit = df_rnaphasep1.rna_unit.str.replace('_', \"u\")\n",
    "df_rnaphasep1.protein_unit =df_rnaphasep1.protein_unit.str.replace('(ﾎｼ|u|µ|\\_)', \"u\")\n",
    "df_rnaphasep1.protein_unit = df_rnaphasep1.protein_unit.str.replace('_', \"u\")\n",
    "df_rnaphasep1.protein_unit =df_rnaphasep1.protein_unit.str.replace('um', \"uM\")\n",
    "#タンパク質濃度の単位をuMに統一\n",
    "protein_conc = df_rnaphasep1.loc[:, ['protein_conc','protein_unit',\"protein_weight\"]]\n",
    "protein_conc.protein_unit = protein_conc.protein_unit.str.replace('(ﾎｼ|u|µ|\\_)', \"u\")\n",
    "protein_conc.protein_unit = protein_conc.protein_unit.str.replace('_', \"u\")\n",
    "protein_conc[\"uM\"]=np.nan\n",
    "protein_conc.protein_conc=protein_conc.protein_conc.astype(\"float\")\n",
    "#計算\n",
    "protein_conc.uM[protein_conc.protein_unit==\"uM\"]=protein_conc.protein_conc\n",
    "protein_conc.uM[protein_conc.protein_unit==\"nM\"]=protein_conc.protein_conc/1000\n",
    "protein_conc.uM[protein_conc.protein_unit==\"mM\"]=protein_conc.protein_conc*1000\n",
    "protein_conc.protein_weight=protein_conc.protein_weight.astype(\"float\")\n",
    "protein_conc.uM[(protein_conc.protein_unit==\"ng/ul\")] = ((protein_conc.protein_conc/1000)/protein_conc.protein_weight)*1000\n",
    "protein_conc.uM[(protein_conc.protein_unit==\"mg/ml\")] = ((protein_conc.protein_conc)/protein_conc.protein_weight)*1000\n",
    "\n",
    "##RNA濃度\n",
    "df_rnaphasep1.rna_unit =df_rnaphasep1.rna_unit.str.replace('(ﾎｼ|u|µ|\\_)', \"u\") #消すと全落ちする\n",
    "df_rnaphasep1.rna_unit =df_rnaphasep1.rna_unit.str.replace('_', \"u\") \n",
    "df_rnaphasep1_1=df_rnaphasep1[df_rnaphasep1.rna_sequence.notna()]\n",
    "df_rnaphasep1_1[\"rna_weight\"]=\"?\"\n",
    "\n",
    "for i in df_rnaphasep1_1.index:\n",
    "    df_rnaphasep1_1.loc.__setitem__((i,\"rna_weight\"),  (\"%0.2f\" % molecular_weight(\n",
    "        f\"{df_rnaphasep1_1.rna_sequence.loc[i]}\", \"RNA\")))\n",
    "rna_conc=df_rnaphasep1_1.loc[:, ['rna_conc', 'rna_unit', 'rna_weight']]\n",
    "\n",
    "rna_conc[\"rna_um\"]=np.nan\n",
    "rna_conc.rna_conc = rna_conc.rna_conc.astype(\"float\")\n",
    "rna_conc.rna_um[rna_conc.rna_unit==\"uM\"]=rna_conc.rna_conc\n",
    "rna_conc.rna_um[rna_conc.rna_unit==\"nM\"]=rna_conc.rna_conc/1000\n",
    "rna_conc.rna_um[rna_conc.rna_unit==\"mM\"]=rna_conc.rna_conc*1000\n",
    "#g/l勢-> uM: [g/l]/[molecular_weight] * 1000\n",
    "rna_conc.rna_weight=rna_conc.rna_weight.astype(\"float\")\n",
    "\n",
    "rna_conc.rna_um[(rna_conc.rna_unit==\"ng/ul\")|(rna_conc.rna_unit==\"ng/uL\")] = ((rna_conc.rna_conc/1000)/rna_conc.rna_weight)*1000\n",
    "rna_conc.rna_um[(rna_conc.rna_unit==\"mg/ml\")|(rna_conc.rna_unit==\"ug/uL\")] = ((rna_conc.rna_conc)/rna_conc.rna_weight)*1000\n",
    "rna_conc.rna_um[(rna_conc.rna_unit=='ug/ml')] = ((rna_conc.rna_conc)/(rna_conc.rna_weight*1000))*1000\n"
   ]
  },
  {
   "cell_type": "code",
   "execution_count": 2,
   "id": "210ba7a1",
   "metadata": {},
   "outputs": [
    {
     "data": {
      "text/plain": [
       "344    0.015942\n",
       "Name: rna_um, dtype: float64"
      ]
     },
     "execution_count": 2,
     "metadata": {},
     "output_type": "execute_result"
    }
   ],
   "source": [
    "rna_conc.rna_um[(rna_conc.rna_unit=='ug/ml')] "
   ]
  },
  {
   "cell_type": "code",
   "execution_count": 7,
   "id": "96c8e9bc",
   "metadata": {},
   "outputs": [
    {
     "data": {
      "text/plain": [
       "40"
      ]
     },
     "execution_count": 7,
     "metadata": {},
     "output_type": "execute_result"
    }
   ],
   "source": [
    "rna_conc.rna_um.isna().sum()"
   ]
  },
  {
   "cell_type": "code",
   "execution_count": 4,
   "id": "26c2d32a",
   "metadata": {},
   "outputs": [
    {
     "data": {
      "text/plain": [
       "489     0.000329\n",
       "490     0.000659\n",
       "491     0.000988\n",
       "492     0.002059\n",
       "493     0.002059\n",
       "          ...   \n",
       "1182    0.000082\n",
       "1183    0.000082\n",
       "1184    0.000082\n",
       "1299    0.000203\n",
       "1300    0.000203\n",
       "Name: rna_um, Length: 105, dtype: float64"
      ]
     },
     "execution_count": 4,
     "metadata": {},
     "output_type": "execute_result"
    }
   ],
   "source": [
    "rna_conc.rna_um[(rna_conc.rna_unit==\"ng/ul\")|(rna_conc.rna_unit==\"ng/uL\")]"
   ]
  },
  {
   "cell_type": "code",
   "execution_count": null,
   "id": "fe17b282",
   "metadata": {},
   "outputs": [],
   "source": []
  }
 ],
 "metadata": {
  "kernelspec": {
   "display_name": "Python 3",
   "language": "python",
   "name": "python3"
  },
  "language_info": {
   "codemirror_mode": {
    "name": "ipython",
    "version": 3
   },
   "file_extension": ".py",
   "mimetype": "text/x-python",
   "name": "python",
   "nbconvert_exporter": "python",
   "pygments_lexer": "ipython3",
   "version": "3.6.13"
  },
  "toc": {
   "base_numbering": 1,
   "nav_menu": {},
   "number_sections": true,
   "sideBar": true,
   "skip_h1_title": false,
   "title_cell": "Table of Contents",
   "title_sidebar": "Contents",
   "toc_cell": false,
   "toc_position": {},
   "toc_section_display": true,
   "toc_window_display": false
  }
 },
 "nbformat": 4,
 "nbformat_minor": 5
}
